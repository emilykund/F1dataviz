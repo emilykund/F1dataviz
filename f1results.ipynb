{
 "cells": [
  {
   "cell_type": "code",
   "execution_count": 13,
   "id": "5f539a98-63bd-4ff8-b5c1-880001cf98a8",
   "metadata": {},
   "outputs": [
    {
     "name": "stdout",
     "output_type": "stream",
     "text": [
      "       resultId  raceId  driverId  constructorId number  grid position  \\\n",
      "0             1      18         1              1     22     1        1   \n",
      "1             2      18         2              2      3     5        2   \n",
      "2             3      18         3              3      7     7        3   \n",
      "3             4      18         4              4      5    11        4   \n",
      "4             5      18         5              1     23     3        5   \n",
      "...         ...     ...       ...            ...    ...   ...      ...   \n",
      "26514     26520    1132       839            214     31    18       16   \n",
      "26515     26521    1132       815              9     11     0       17   \n",
      "26516     26522    1132       855             15     24    14       18   \n",
      "26517     26523    1132       847            131     63     1       \\N   \n",
      "26518     26524    1132       842            214     10    19       \\N   \n",
      "\n",
      "      positionText  positionOrder  points  laps         time milliseconds  \\\n",
      "0                1              1    10.0    58  1:34:50.616      5690616   \n",
      "1                2              2     8.0    58       +5.478      5696094   \n",
      "2                3              3     6.0    58       +8.163      5698779   \n",
      "3                4              4     5.0    58      +17.181      5707797   \n",
      "4                5              5     4.0    58      +18.014      5708630   \n",
      "...            ...            ...     ...   ...          ...          ...   \n",
      "26514           16             16     0.0    50           \\N           \\N   \n",
      "26515           17             17     0.0    50           \\N           \\N   \n",
      "26516           18             18     0.0    50           \\N           \\N   \n",
      "26517            R             19     0.0    33           \\N           \\N   \n",
      "26518            W             20     0.0     0           \\N           \\N   \n",
      "\n",
      "      fastestLap rank fastestLapTime fastestLapSpeed  statusId  \n",
      "0             39    2       1:27.452         218.300         1  \n",
      "1             41    3       1:27.739         217.586         1  \n",
      "2             41    5       1:28.090         216.719         1  \n",
      "3             58    7       1:28.603         215.464         1  \n",
      "4             43    1       1:27.418         218.385         1  \n",
      "...          ...  ...            ...             ...       ...  \n",
      "26514         46   16       1:30.875         233.371        12  \n",
      "26515         50    6       1:29.707         236.409        12  \n",
      "26516         43   17       1:31.014         233.014        12  \n",
      "26517          3   19       1:31.298         232.289        34  \n",
      "26518         \\N    0             \\N              \\N         6  \n",
      "\n",
      "[26519 rows x 18 columns]\n"
     ]
    }
   ],
   "source": [
    "import pandas as pd\n",
    "import csv\n",
    "\n",
    "# Read a CSV file into df\n",
    "f1results = pd.read_csv('/users/results.csv')\n",
    "\n",
    "print(f1results)"
   ]
  },
  {
   "cell_type": "code",
   "execution_count": 15,
   "id": "fa476a31-a427-46cf-962f-f30615c76a48",
   "metadata": {},
   "outputs": [],
   "source": [
    "from ydata_profiling import ProfileReport"
   ]
  },
  {
   "cell_type": "code",
   "execution_count": 36,
   "id": "5fb159c0-99dc-46c6-803b-a32794f86fd2",
   "metadata": {},
   "outputs": [
    {
     "data": {
      "application/vnd.jupyter.widget-view+json": {
       "model_id": "33329807fbda46d3a7a8fd430718bbb5",
       "version_major": 2,
       "version_minor": 0
      },
      "text/plain": [
       "Summarize dataset:   0%|          | 0/5 [00:00<?, ?it/s]"
      ]
     },
     "metadata": {},
     "output_type": "display_data"
    },
    {
     "data": {
      "application/vnd.jupyter.widget-view+json": {
       "model_id": "911edf721c8b4911b6d39d0e6ca0646d",
       "version_major": 2,
       "version_minor": 0
      },
      "text/plain": [
       "Generate report structure:   0%|          | 0/1 [00:00<?, ?it/s]"
      ]
     },
     "metadata": {},
     "output_type": "display_data"
    },
    {
     "data": {
      "application/vnd.jupyter.widget-view+json": {
       "model_id": "9cbc30e1e9e54260ab03dfdb311d313b",
       "version_major": 2,
       "version_minor": 0
      },
      "text/plain": [
       "Render HTML:   0%|          | 0/1 [00:00<?, ?it/s]"
      ]
     },
     "metadata": {},
     "output_type": "display_data"
    },
    {
     "data": {
      "application/vnd.jupyter.widget-view+json": {
       "model_id": "657c679161174d60ae44a5059ffc5319",
       "version_major": 2,
       "version_minor": 0
      },
      "text/plain": [
       "Export report to file:   0%|          | 0/1 [00:00<?, ?it/s]"
      ]
     },
     "metadata": {},
     "output_type": "display_data"
    },
    {
     "data": {
      "text/plain": [
       "True"
      ]
     },
     "execution_count": 36,
     "metadata": {},
     "output_type": "execute_result"
    }
   ],
   "source": [
    "import pandas as pd\n",
    "from ydata_profiling import ProfileReport\n",
    "import webbrowser\n",
    "import os\n",
    "\n",
    "# Generate the profiling report\n",
    "f1profile = ProfileReport(f1results, title=\"F1 Data Profiling Report\")\n",
    "\n",
    "\n",
    "# Save the report as an HTML file\n",
    "file_path = \"data_profiling_report.html\"\n",
    "f1profile.to_file(file_path)\n",
    "\n",
    "# Open the report in the default web browser\n",
    "webbrowser.open(f\"file://{os.path.abspath(file_path)}\")\n"
   ]
  },
  {
   "cell_type": "code",
   "execution_count": null,
   "id": "e0222f19-a81a-4ae3-ac6e-d75f3c4a328c",
   "metadata": {},
   "outputs": [],
   "source": []
  }
 ],
 "metadata": {
  "kernelspec": {
   "display_name": "Python 3 (ipykernel)",
   "language": "python",
   "name": "python3"
  },
  "language_info": {
   "codemirror_mode": {
    "name": "ipython",
    "version": 3
   },
   "file_extension": ".py",
   "mimetype": "text/x-python",
   "name": "python",
   "nbconvert_exporter": "python",
   "pygments_lexer": "ipython3",
   "version": "3.11.7"
  }
 },
 "nbformat": 4,
 "nbformat_minor": 5
}
